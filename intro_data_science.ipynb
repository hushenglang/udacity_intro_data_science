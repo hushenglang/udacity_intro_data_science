{
 "cells": [
  {
   "cell_type": "markdown",
   "metadata": {},
   "source": [
    "# 1973 UC-Berkeley Graduate School Admission Data\n",
    "## ask questions:\n",
    "### 1. the precent of female/male who get permited/rejected for total;\n",
    "### 2. the precent of female/male who get permited/rejected for each dept;"
   ]
  },
  {
   "cell_type": "code",
   "execution_count": 30,
   "metadata": {
    "collapsed": false
   },
   "outputs": [
    {
     "name": "stdout",
     "output_type": "stream",
     "text": [
      "male get accpect:0.4451876625789669,  female get accpeted:0.30354223433242505\n",
      "             Freq\n",
      "Gender Dept      \n",
      "Female A      108\n",
      "       B       25\n",
      "       C      593\n",
      "       D      375\n",
      "       E      393\n",
      "       F      341\n",
      "Male   A      825\n",
      "       B      560\n",
      "       C      325\n",
      "       D      417\n",
      "       E      191\n",
      "       F      373\n"
     ]
    }
   ],
   "source": [
    "import pandas as pd\n",
    "berkeley = pd.read_csv(\"Berkeley.csv\")\n",
    "def getAccpetedPrecentage(gender):\n",
    "    female = berkeley[berkeley['Gender']==gender]\n",
    "    femaleNum = female['Freq'].sum()\n",
    "    femaleAcceptedNum = (female[female['Admit']=='Admitted'])['Freq'].sum()\n",
    "    prec_femaleAccepted = femaleAcceptedNum/femaleNum\n",
    "    return prec_femaleAccepted\n",
    "    \n",
    "#the precent of female/male who get permited/rejected for total;\n",
    "prec_femaleAccepted = getAccpetedPrecentage('Female')\n",
    "prec_maleAccepted = getAccpetedPrecentage('Male')\n",
    "print(\"male get accpect:{0},  female get accpeted:{1}\".format(prec_maleAccepted, prec_femaleAccepted))\n",
    "\n",
    "\n",
    "#the precent of female/male who get permited/rejected for each dept\n",
    "grouped = berkeley.groupby(['Gender', 'Dept'])\n",
    "grouped_sum = grouped.sum()\n",
    "grouped_female_sum = g.nth(0).sum()\n",
    "print(grouped_sum.)\n",
    "#print(grouped_female_sum)"
   ]
  }
 ],
 "metadata": {
  "kernelspec": {
   "display_name": "Python [conda env:tensorflow]",
   "language": "python",
   "name": "conda-env-tensorflow-py"
  },
  "language_info": {
   "codemirror_mode": {
    "name": "ipython",
    "version": 3
   },
   "file_extension": ".py",
   "mimetype": "text/x-python",
   "name": "python",
   "nbconvert_exporter": "python",
   "pygments_lexer": "ipython3",
   "version": "3.5.3"
  }
 },
 "nbformat": 4,
 "nbformat_minor": 0
}
